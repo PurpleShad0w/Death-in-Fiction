{
 "cells": [
  {
   "cell_type": "code",
   "execution_count": null,
   "metadata": {},
   "outputs": [],
   "source": [
    "import os\n",
    "import pandas as pd\n",
    "from pyvis.network import Network"
   ]
  },
  {
   "cell_type": "code",
   "execution_count": null,
   "metadata": {},
   "outputs": [],
   "source": [
    "kills = pd.DataFrame(columns=['universe', 'culprit', 'count', 'victims'])\n",
    "deaths = pd.DataFrame(columns=['universe', 'victim', 'culprits', 'dependent', 'definitive'])"
   ]
  },
  {
   "cell_type": "code",
   "execution_count": null,
   "metadata": {},
   "outputs": [],
   "source": [
    "for path, subdirs, files in os.walk('Lists'):\n",
    "    for name in files:\n",
    "        file = path + '\\\\' + name\n",
    "        universe = file.split('\\\\')[1::2][0]\n",
    "        \n",
    "        with open(file, 'r') as f:\n",
    "            lines = f.read().split('\\n')\n",
    "        \n",
    "        for line in lines:\n",
    "            victim = line.split('**')[1::2][0]\n",
    "            culprits = line.split('_')[1::2]\n",
    "\n",
    "            if '(dependent)' in line:\n",
    "                observer = True\n",
    "            else:\n",
    "                observer = False\n",
    "            \n",
    "            if '(later revived)' in line or observer:\n",
    "                definitive = False\n",
    "            else:\n",
    "                definitive = True\n",
    "\n",
    "            for i in range(len(culprits)):\n",
    "                if culprits[i] == 'suicide':\n",
    "                    culprits[i] = victim\n",
    "\n",
    "                row = [universe, culprits[i], 1, victim]\n",
    "                kills.loc[len(kills)] = row\n",
    "\n",
    "            row = [universe, victim, culprits, observer, definitive]\n",
    "            deaths.loc[len(deaths)] = row"
   ]
  },
  {
   "cell_type": "code",
   "execution_count": null,
   "metadata": {},
   "outputs": [],
   "source": [
    "edge_list = kills[['universe', 'culprit', 'victims']]\n",
    "kills = kills.groupby(by=['universe', 'culprit']).aggregate({'count':sum, 'victims':', '.join})\n",
    "kills = kills.reset_index().sort_values(by='count', ascending=False)\n",
    "kills.drop_duplicates('universe')"
   ]
  },
  {
   "cell_type": "code",
   "execution_count": null,
   "metadata": {},
   "outputs": [],
   "source": [
    "edge_list['culprit'] += \" [\" + edge_list['universe'] + \"]\"\n",
    "edge_list['victims'] += \" [\" + edge_list['universe'] + \"]\"\n",
    "sources, targets = edge_list['culprit'], edge_list['victims']\n",
    "\n",
    "net = Network(height=\"100%\", width=\"100%\", bgcolor=\"#111111\", font_color=\"#e8ac87\", directed=True)\n",
    "edge_data = zip(sources, targets)\n",
    "\n",
    "for src, dst in edge_data:\n",
    "    label_src = src.split(\" [\")[0]\n",
    "    label_dst = dst.split(\" [\")[0]\n",
    "\n",
    "    net.add_node(src, label=label_src, color='crimson')\n",
    "    net.add_node(dst, label=label_dst, color='crimson')\n",
    "    net.add_edge(src, dst, color='#eb73b7')\n",
    "\n",
    "    neighbor_map = net.get_adj_list()\n",
    "\n",
    "    for node in net.nodes:\n",
    "        node['title'] = node['label'] + \"'s Victims :<br><br>\" + \"<br>\".join(neighbor_map[node['id']])\n",
    "        node['value'] = len(neighbor_map[node['id']])\n",
    "    \n",
    "    net.inherit_edge_colors(False)\n",
    "    net.set_edge_smooth('dynamic')\n",
    "\n",
    "net.save_graph('main.html')"
   ]
  }
 ],
 "metadata": {
  "kernelspec": {
   "display_name": "Python 3",
   "language": "python",
   "name": "python3"
  },
  "language_info": {
   "codemirror_mode": {
    "name": "ipython",
    "version": 3
   },
   "file_extension": ".py",
   "mimetype": "text/x-python",
   "name": "python",
   "nbconvert_exporter": "python",
   "pygments_lexer": "ipython3",
   "version": "3.11.2"
  },
  "orig_nbformat": 4
 },
 "nbformat": 4,
 "nbformat_minor": 2
}
