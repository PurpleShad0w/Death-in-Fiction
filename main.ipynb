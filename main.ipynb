{
 "cells": [
  {
   "cell_type": "markdown",
   "metadata": {},
   "source": [
    "## Death in Fiction"
   ]
  },
  {
   "cell_type": "markdown",
   "metadata": {},
   "source": [
    "### Imports and Setup"
   ]
  },
  {
   "cell_type": "code",
   "execution_count": null,
   "metadata": {},
   "outputs": [],
   "source": [
    "import os\n",
    "import pandas as pd\n",
    "import re\n",
    "import warnings\n",
    "\n",
    "from pyvis.network import Network\n",
    "\n",
    "warnings.filterwarnings('ignore')"
   ]
  },
  {
   "cell_type": "code",
   "execution_count": null,
   "metadata": {},
   "outputs": [],
   "source": [
    "kills = pd.DataFrame(columns=['universe', 'culprit', 'direct count', 'indirect count', 'count', 'victims'])\n",
    "deaths = pd.DataFrame(columns=['universe', 'victim', 'culprits', 'description', 'notes'])\n",
    "edges = pd.DataFrame(columns=['universe', 'culprit', 'victim', 'direction', 'description', 'notes'])"
   ]
  },
  {
   "cell_type": "markdown",
   "metadata": {},
   "source": [
    "### Collection"
   ]
  },
  {
   "cell_type": "code",
   "execution_count": null,
   "metadata": {},
   "outputs": [],
   "source": [
    "for path, subdirs, files in os.walk('Universes'):\n",
    "    for name in files:\n",
    "        file = path + '\\\\' + name\n",
    "        universe = file.split('\\\\')[1::2][0]\n",
    "\n",
    "        tsv = pd.read_csv(file, sep='\\t')\n",
    "\n",
    "        for i in range(len(tsv)):\n",
    "            victim = tsv['victim'][i]\n",
    "            direct_culprits = str(tsv['direct culprit(s)'][i]).split(', ')\n",
    "            indirect_culprits = str(tsv['indirect culprit(s)'][i]).split(', ')\n",
    "            description = tsv['description'][i]\n",
    "            notes = tsv['notes'][i]\n",
    "\n",
    "            if direct_culprits == ['nan']:\n",
    "                direct_culprits = []\n",
    "            if indirect_culprits == ['nan']:\n",
    "                indirect_culprits = []\n",
    "\n",
    "            culprits = direct_culprits + indirect_culprits\n",
    "            if culprits == ['nan']:\n",
    "                culprits = []\n",
    "\n",
    "            for i in range(len(culprits)):\n",
    "                if culprits[i] in direct_culprits:\n",
    "                    row = [universe, culprits[i], 1, 0, 1, victim]\n",
    "                    kills.loc[len(kills)] = row\n",
    "                elif culprits[i] in indirect_culprits:\n",
    "                    row = [universe, culprits[i], 0, 1, 1, victim]\n",
    "                    kills.loc[len(kills)] = row\n",
    "\n",
    "                if culprits[i] in direct_culprits:\n",
    "                    row = [universe, culprits[i], victim, 'direct', description, notes]\n",
    "                    edges.loc[len(edges)] = row\n",
    "                elif culprits[i] in indirect_culprits:\n",
    "                    row = [universe, culprits[i], victim, 'indirect', description, notes]\n",
    "                    edges.loc[len(edges)] = row\n",
    "\n",
    "            if culprits == []:\n",
    "                row = [universe, '', victim, '', description, notes]\n",
    "                edges.loc[len(edges)] = row\n",
    "\n",
    "            row = [universe, victim, culprits, description, notes]\n",
    "            deaths.loc[len(deaths)] = row"
   ]
  },
  {
   "cell_type": "markdown",
   "metadata": {},
   "source": [
    "### Organisation"
   ]
  },
  {
   "cell_type": "code",
   "execution_count": null,
   "metadata": {},
   "outputs": [],
   "source": [
    "kills = kills.groupby(by=['universe', 'culprit']).aggregate({'direct count':sum, 'indirect count':sum, 'count':sum, 'victims':', '.join})\n",
    "kills.reset_index(inplace=True)\n",
    "print('----- the 10 Deadliest Killers  -----')\n",
    "kills.drop('victims', axis=1).sort_values(by='count', ascending=False).head(10)"
   ]
  },
  {
   "cell_type": "code",
   "execution_count": null,
   "metadata": {},
   "outputs": [],
   "source": [
    "print('----- Deadliest Killer per Universe -----')\n",
    "kills.drop('victims', axis=1).sort_values(by='count', ascending=False).drop_duplicates('universe')"
   ]
  },
  {
   "cell_type": "code",
   "execution_count": null,
   "metadata": {},
   "outputs": [],
   "source": [
    "deaths_count = pd.DataFrame(deaths.groupby(by=['universe', 'victim']).size()).reset_index()\n",
    "deaths_count.columns = ['universe', 'character', 'deaths']\n",
    "\n",
    "kills_count = pd.DataFrame(kills.groupby(by=['universe', 'culprit']).sum('count')).reset_index()\n",
    "kills_count.drop(['direct count', 'indirect count'], axis=1, inplace=True)\n",
    "kills_count.columns = ['universe', 'character', 'kills']\n",
    "\n",
    "summary = pd.merge(deaths_count, kills_count, left_on=['universe', 'character'], right_on=['universe', 'character'], how='outer')\n",
    "summary.fillna(0, inplace=True)\n",
    "summary.sort_values(by=['universe', 'character'], inplace=True)\n",
    "\n",
    "summary['ratio'] = summary['kills'] / summary['deaths']\n",
    "summary.loc[summary['deaths'] == 0, 'ratio'] = 0\n",
    "\n",
    "summary['score'] = 0\n",
    "\n",
    "for i in range(len(kills)):\n",
    "    universe = kills.iloc[i]['universe']\n",
    "    culprit = kills.iloc[i]['culprit']\n",
    "    count = kills.iloc[i]['count']\n",
    "    victims = kills.iloc[i]['victims'].split(', ')\n",
    "\n",
    "    summary.loc[(summary['universe'] == universe) & (summary['character'] == culprit), 'score'] += count\n",
    "    victims = list(set(victims))\n",
    "\n",
    "    for victim in victims:\n",
    "        if victim != '' and victim != culprit:\n",
    "            try:\n",
    "                score = summary.loc[(summary['universe'] == universe) & (summary['character'] == victim), 'kills'].values[0]\n",
    "            except IndexError:\n",
    "                score = 0\n",
    "            summary.loc[(summary['universe'] == universe) & (summary['character'] == culprit), 'score'] += score\n",
    "\n",
    "summary['transitivity'] = summary['score'] - summary['kills']\n",
    "print(\"----- the 10 Deadliest 'Killer Killers' -----\")\n",
    "summary.sort_values(by='transitivity', ascending=False).head(10)"
   ]
  },
  {
   "cell_type": "code",
   "execution_count": null,
   "metadata": {},
   "outputs": [],
   "source": [
    "print('----- Deadliest Universes -----')\n",
    "pd.DataFrame(deaths.groupby(by=['universe']).size().sort_values(ascending=False)).reset_index().rename(columns={0:'deaths'})"
   ]
  },
  {
   "cell_type": "code",
   "execution_count": null,
   "metadata": {},
   "outputs": [],
   "source": [
    "deaths.to_csv('deaths.tsv', sep='\\t', index=False)\n",
    "kills.to_csv('kills.tsv', sep='\\t', index=False)\n",
    "summary.to_csv('summary.tsv', sep='\\t', index=False)"
   ]
  },
  {
   "cell_type": "markdown",
   "metadata": {},
   "source": [
    "### Visualisation"
   ]
  },
  {
   "cell_type": "code",
   "execution_count": null,
   "metadata": {},
   "outputs": [],
   "source": [
    "edges['culprit'] += \" [\" + edges['universe'] + \"]\"\n",
    "edges.loc[edges['culprit'].str.startswith(' ['), 'culprit'] = ''\n",
    "edges['victim'] += \" [\" + edges['universe'] + \"]\"\n",
    "edges['color'] = pd.Series()\n",
    "\n",
    "for i in range(len(edges)):\n",
    "    notes = str(edges.iloc[i]['notes']).split(', ')\n",
    "\n",
    "    if 'VAR' in notes:  # Variable\n",
    "        dependent = True\n",
    "    else:\n",
    "        dependent = False\n",
    "\n",
    "    if 'DNC' in notes:  # Does Not Count\n",
    "        definitive = False\n",
    "    else:\n",
    "        definitive = True\n",
    "\n",
    "    if not definitive:\n",
    "        edges.iloc[i, 6] = '0_green'\n",
    "    elif dependent and definitive:\n",
    "        edges.iloc[i, 6] = '1_purple'\n",
    "    if not dependent and definitive:\n",
    "        edges.iloc[i, 6] = '2_crimson'\n",
    "\n",
    "nodes = edges[['victim', 'color']]\n",
    "nodes.sort_values(by=['victim', 'color'], inplace=True)\n",
    "victims = nodes['victim'].values\n",
    "culprits = edges['culprit'].values\n",
    "\n",
    "for culprit in culprits:\n",
    "    if not culprit in victims:\n",
    "        data = {'victim': [culprit], 'color': ['0_green']}\n",
    "        df = pd.DataFrame(data)\n",
    "        nodes = pd.concat([nodes, df])\n",
    "\n",
    "nodes.sort_values(by=['victim', 'color'], inplace=True)\n",
    "nodes.drop_duplicates('victim', keep='last', inplace=True)\n",
    "nodes['color'] = nodes['color'].str.split('_').str[1]\n",
    "\n",
    "descriptions = deaths.groupby(by=['universe', 'victim']).aggregate({'description':'<br>'.join})\n",
    "descriptions.reset_index(inplace=True)\n",
    "descriptions['victim'] += \" [\" + descriptions['universe'] + \"]\"\n",
    "descriptions.drop(columns=['universe'], inplace=True)\n",
    "\n",
    "nodes = pd.merge(nodes, descriptions, left_on=['victim'], right_on=['victim'], how='outer')"
   ]
  },
  {
   "cell_type": "code",
   "execution_count": null,
   "metadata": {},
   "outputs": [],
   "source": [
    "profiles = pd.DataFrame(columns=['universe', 'character', 'profile'])"
   ]
  },
  {
   "cell_type": "code",
   "execution_count": null,
   "metadata": {},
   "outputs": [],
   "source": [
    "def make_network(universe):\n",
    "    net = Network(height=\"100%\", width=\"100%\", bgcolor=\"#111111\", directed=True)\n",
    "    net.force_atlas_2based(overlap=1, damping=0.5)\n",
    "\n",
    "    current_edges = edges[edges['universe'] == universe]\n",
    "    current_nodes = nodes[nodes['victim'].str.endswith('[' + universe + ']')]\n",
    "\n",
    "    sources, targets, direction = current_edges['culprit'], current_edges['victim'], current_edges['direction']\n",
    "    description = current_edges['description']\n",
    "    edge_data = zip(sources, targets, direction, description)\n",
    "\n",
    "    for i in range(len(current_nodes)):\n",
    "        victim = current_nodes.iloc[i]['victim']\n",
    "        color = current_nodes.iloc[i]['color']\n",
    "        label = victim.split(\" [\")[0]\n",
    "        description = current_nodes.iloc[i]['description']\n",
    "        title = label + \"<br><br>Character Profile :\" + \"<br><br><br>\"\n",
    "\n",
    "        if description == description:\n",
    "            value = description.count('<br>') + 1\n",
    "            if value != 1:\n",
    "                plural = 's'\n",
    "            else:\n",
    "                plural = ''\n",
    "\n",
    "            title += str(value) + \" Death\" + plural + \" :<br><br>\" + description + \"<br><br>\"\n",
    "        else:\n",
    "            title += ''\n",
    "\n",
    "        if victim != '':\n",
    "            font = '15px arial sans-serif ' + color\n",
    "            net.add_node(victim, label=label, title=title, color=color, font=font)\n",
    "\n",
    "    for src, dst, dir, des in edge_data:\n",
    "        if src != '':\n",
    "            if dir == 'direct':\n",
    "                net.add_edge(src, dst, title=des, color='#e8ac87', width=1, dashes=False)\n",
    "            elif dir == 'indirect':\n",
    "                net.add_edge(src, dst, title=des, color='#cccccc', width=1, dashes=True)\n",
    "\n",
    "    neighbor_map = net.get_adj_list()\n",
    "\n",
    "    for node in net.nodes:\n",
    "        value = len(neighbor_map[node['id']])\n",
    "        if value != 0:\n",
    "            if value != 1:\n",
    "                plural = 's'\n",
    "            else:\n",
    "                plural = ''\n",
    "            node['title'] += str(value) + \" Victim\" + plural + \" :<br><br>\"\n",
    "            node['title'] += \"<br>\".join(sorted(neighbor_map[node['id']]))\n",
    "            node['title'] = re.sub(' \\[.*?\\]', '', node['title'])\n",
    "        node['value'] = value\n",
    "    \n",
    "    net.inherit_edge_colors(False)\n",
    "    net.set_edge_smooth('dynamic')\n",
    "\n",
    "    net.save_graph('Networks/' + universe + '.html')\n",
    "\n",
    "    for node in net.nodes:\n",
    "        universe = node['id'].split(' [')[1].split(']')[0]\n",
    "        character = node['id'].split(' [')[0]\n",
    "        profile = node['title']\n",
    "        row = [universe, character, profile]\n",
    "        profiles.loc[len(profiles)] = row"
   ]
  },
  {
   "cell_type": "code",
   "execution_count": null,
   "metadata": {},
   "outputs": [],
   "source": [
    "for universe in kills['universe'].unique():\n",
    "    make_network(universe)"
   ]
  },
  {
   "cell_type": "code",
   "execution_count": null,
   "metadata": {},
   "outputs": [],
   "source": [
    "profiles.to_csv('profiles.tsv', sep='\\t', index=False)"
   ]
  }
 ],
 "metadata": {
  "kernelspec": {
   "display_name": "Python 3",
   "language": "python",
   "name": "python3"
  },
  "language_info": {
   "codemirror_mode": {
    "name": "ipython",
    "version": 3
   },
   "file_extension": ".py",
   "mimetype": "text/x-python",
   "name": "python",
   "nbconvert_exporter": "python",
   "pygments_lexer": "ipython3",
   "version": "3.10.3"
  },
  "orig_nbformat": 4
 },
 "nbformat": 4,
 "nbformat_minor": 2
}
