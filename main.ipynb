{
 "cells": [
  {
   "cell_type": "code",
   "execution_count": null,
   "metadata": {},
   "outputs": [],
   "source": [
    "import os\n",
    "import pandas as pd\n",
    "from pyvis.network import Network\n",
    "import warnings\n",
    "\n",
    "warnings.filterwarnings('ignore')"
   ]
  },
  {
   "cell_type": "code",
   "execution_count": null,
   "metadata": {},
   "outputs": [],
   "source": [
    "kills = pd.DataFrame(columns=['universe', 'culprit', 'count', 'victims'])\n",
    "deaths = pd.DataFrame(columns=['universe', 'victim', 'culprits', 'dependent', 'definitive'])\n",
    "edges = pd.DataFrame(columns=['universe', 'culprit', 'victim', 'dependent', 'definitive'])"
   ]
  },
  {
   "cell_type": "code",
   "execution_count": null,
   "metadata": {},
   "outputs": [],
   "source": [
    "for path, subdirs, files in os.walk('Universes'):\n",
    "    for name in files:\n",
    "        file = path + '\\\\' + name\n",
    "        universe = file.split('\\\\')[1::2][0]\n",
    "        \n",
    "        with open(file, 'r') as f:\n",
    "            lines = f.read().split('\\n')\n",
    "        \n",
    "        for line in lines:\n",
    "            victim = line.split('**')[1::2][0]\n",
    "            culprits = line.split('_')[1::2]\n",
    "\n",
    "            if '(dependent)' in line:\n",
    "                dependent = True\n",
    "            else:\n",
    "                dependent = False\n",
    "            \n",
    "            if '(revived)' in line or '(undone)' in line:\n",
    "                definitive = False\n",
    "            else:\n",
    "                definitive = True\n",
    "\n",
    "            for i in range(len(culprits)):\n",
    "                if culprits[i] == 'suicide':\n",
    "                    culprits[i] = victim\n",
    "\n",
    "                row = [universe, culprits[i], 1, victim]\n",
    "                kills.loc[len(kills)] = row\n",
    "\n",
    "                row = [universe, culprits[i], victim, dependent, definitive]\n",
    "                edges.loc[len(edges)] = row\n",
    "            \n",
    "            if culprits == []:\n",
    "                row = [universe, '', victim, dependent, definitive]\n",
    "                edges.loc[len(edges)] = row\n",
    "\n",
    "            row = [universe, victim, culprits, dependent, definitive]\n",
    "            deaths.loc[len(deaths)] = row"
   ]
  },
  {
   "cell_type": "code",
   "execution_count": null,
   "metadata": {},
   "outputs": [],
   "source": [
    "kills = kills.groupby(by=['universe', 'culprit']).aggregate({'count':sum, 'victims':', '.join})\n",
    "kills = kills.reset_index().sort_values(by='count', ascending=False)\n",
    "kills.drop_duplicates('universe')"
   ]
  },
  {
   "cell_type": "code",
   "execution_count": null,
   "metadata": {},
   "outputs": [],
   "source": [
    "edges['culprit'] += \" [\" + edges['universe'] + \"]\"\n",
    "edges.loc[edges['culprit'].str.startswith(' ['), 'culprit'] = ''\n",
    "edges['victim'] += \" [\" + edges['universe'] + \"]\"\n",
    "edges['color'] = pd.Series()\n",
    "\n",
    "for i in range(len(edges)):\n",
    "    if not edges.iloc[i]['definitive']:\n",
    "        edges.iloc[i, 5] = '0_green'\n",
    "    elif edges.iloc[i]['dependent'] and edges.iloc[i]['definitive']:\n",
    "        edges.iloc[i, 5] = '1_purple'\n",
    "    if not edges.iloc[i]['dependent'] and edges.iloc[i]['definitive']:\n",
    "        edges.iloc[i, 5] = '2_crimson'\n",
    "\n",
    "nodes = edges[['victim', 'color']]\n",
    "nodes.sort_values(by=['victim', 'color'], inplace=True)\n",
    "nodes.drop_duplicates('victim', keep='last', inplace=True)\n",
    "victims = nodes['victim'].values\n",
    "culprits = edges['culprit'].values\n",
    "\n",
    "for culprit in culprits:\n",
    "    if not culprit in victims:\n",
    "        data = {'victim': [culprit], 'color': ['0_green']}\n",
    "        df = pd.DataFrame(data)\n",
    "        nodes = pd.concat([nodes, df])\n",
    "\n",
    "nodes.sort_values(by='victim', inplace=True)\n",
    "nodes.drop_duplicates('victim', keep='last', inplace=True)\n",
    "nodes['color'] = nodes['color'].str.split('_').str[1]"
   ]
  },
  {
   "cell_type": "code",
   "execution_count": null,
   "metadata": {},
   "outputs": [],
   "source": [
    "net = Network(height=\"100%\", width=\"100%\", bgcolor=\"#111111\", font_color=\"#e8ac87\", directed=True)\n",
    "net.force_atlas_2based(overlap=1)\n",
    "sources, targets = edges['culprit'], edges['victim']\n",
    "edge_data = zip(sources, targets)\n",
    "\n",
    "for i in range(len(nodes)):\n",
    "    victim = nodes.iloc[i]['victim']\n",
    "    color = nodes.iloc[i]['color']\n",
    "    label = victim.split(\" [\")[0]\n",
    "\n",
    "    if victim != '':\n",
    "        net.add_node(victim, label=label, color=color)\n",
    "\n",
    "for src, dst in edge_data:\n",
    "    if src != '':\n",
    "        net.add_edge(src, dst, color='#eb73b7')\n",
    "\n",
    "neighbor_map = net.get_adj_list()\n",
    "\n",
    "for node in net.nodes:\n",
    "    node['title'] = node['label'] + \"'s Victims :<br><br>\" + \"<br>\".join(neighbor_map[node['id']])\n",
    "    node['value'] = len(neighbor_map[node['id']])\n",
    "    \n",
    "net.inherit_edge_colors(False)\n",
    "net.set_edge_smooth('dynamic')\n",
    "\n",
    "net.save_graph('main.html')"
   ]
  }
 ],
 "metadata": {
  "kernelspec": {
   "display_name": "Python 3",
   "language": "python",
   "name": "python3"
  },
  "language_info": {
   "codemirror_mode": {
    "name": "ipython",
    "version": 3
   },
   "file_extension": ".py",
   "mimetype": "text/x-python",
   "name": "python",
   "nbconvert_exporter": "python",
   "pygments_lexer": "ipython3",
   "version": "3.10.3"
  },
  "orig_nbformat": 4
 },
 "nbformat": 4,
 "nbformat_minor": 2
}
