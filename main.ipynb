{
 "cells": [
  {
   "cell_type": "code",
   "execution_count": 1,
   "metadata": {},
   "outputs": [],
   "source": [
    "import os\n",
    "import pandas as pd\n",
    "import re\n",
    "import warnings\n",
    "\n",
    "from pyvis.network import Network\n",
    "\n",
    "warnings.filterwarnings('ignore')"
   ]
  },
  {
   "cell_type": "code",
   "execution_count": 2,
   "metadata": {},
   "outputs": [],
   "source": [
    "kills = pd.DataFrame(columns=['universe', 'character', 'killed', 'responsible for', 'total kills', 'victims'])\n",
    "deaths = pd.DataFrame(columns=['universe', 'entry', 'character', 'responsible party', 'description', 'type'])\n",
    "edges = pd.DataFrame(columns=['universe', 'killer', 'victim', 'direction', 'description', 'type'])"
   ]
  },
  {
   "cell_type": "code",
   "execution_count": 3,
   "metadata": {},
   "outputs": [],
   "source": [
    "for path, subdirs, files in os.walk('Universes'):\n",
    "    for name in files:\n",
    "        file = path + '\\\\' + name\n",
    "        universe = file.split('\\\\')[1]\n",
    "        entry = file.split('\\\\')[2].replace('.tsv', '')\n",
    "\n",
    "        tsv = pd.read_csv(file, sep='\\t')\n",
    "\n",
    "        for i in range(len(tsv)):\n",
    "            character = tsv['character'][i]\n",
    "            killer = str(tsv['killer'][i]).split(' | ')\n",
    "            responsible_party = str(tsv['responsible party'][i]).split(' | ')\n",
    "            description = tsv['description'][i]\n",
    "            type = tsv['type'][i]\n",
    "\n",
    "            if killer == ['nan']:\n",
    "                killer = []\n",
    "            if responsible_party == ['nan']:\n",
    "                responsible_party = []\n",
    "\n",
    "            killerparty = killer + responsible_party\n",
    "            if killerparty == ['nan']:\n",
    "                killerparty = []\n",
    "\n",
    "            for i in range(len(killerparty)):\n",
    "                if killerparty[i] in killer:\n",
    "                    row = [universe, killerparty[i], 1, 0, 1, character]\n",
    "                    kills.loc[len(kills)] = row\n",
    "                elif killerparty[i] in responsible_party:\n",
    "                    row = [universe, killerparty[i], 0, 1, 1, character]\n",
    "                    kills.loc[len(kills)] = row\n",
    "\n",
    "                if killerparty[i] in killer:\n",
    "                    row = [universe, killerparty[i], character, 'direct', description, type]\n",
    "                    edges.loc[len(edges)] = row\n",
    "                elif killerparty[i] in responsible_party:\n",
    "                    row = [universe, killerparty[i], character, 'indirect', description, type]\n",
    "                    edges.loc[len(edges)] = row\n",
    "\n",
    "            if killerparty == []:\n",
    "                row = [universe, '', character, '', description, type]\n",
    "                edges.loc[len(edges)] = row\n",
    "\n",
    "            row = [universe, entry, character, killerparty, description, type]\n",
    "            deaths.loc[len(deaths)] = row"
   ]
  },
  {
   "cell_type": "code",
   "execution_count": null,
   "metadata": {},
   "outputs": [],
   "source": [
    "print('----- Deadliest Universes -----')\n",
    "pd.DataFrame(deaths.groupby(by=['universe']).size().sort_values(ascending=False)).reset_index().rename(columns={0:'deaths'})"
   ]
  },
  {
   "cell_type": "code",
   "execution_count": null,
   "metadata": {},
   "outputs": [],
   "source": [
    "kills = kills.groupby(by=['universe', 'character']).aggregate({'killed':sum, 'responsible for':sum, 'total kills':sum, 'victims':', '.join})\n",
    "kills.reset_index(inplace=True)\n",
    "print('----- Deadliest Killer per Universe -----')\n",
    "kills.drop('victims', axis=1).sort_values(by='total kills', ascending=False).drop_duplicates('universe')"
   ]
  },
  {
   "cell_type": "code",
   "execution_count": 6,
   "metadata": {},
   "outputs": [],
   "source": [
    "deaths_count = pd.DataFrame(deaths.groupby(by=['universe', 'character']).size()).reset_index()\n",
    "deaths_count.columns = ['universe', 'character', 'deaths']\n",
    "\n",
    "kills_count = kills.copy()\n",
    "kills_count.drop(['victims'], axis=1, inplace=True)\n",
    "kills_count.columns = ['universe', 'character', 'killed', 'responsible for', 'total kills']\n",
    "\n",
    "summary = pd.merge(deaths_count, kills_count, left_on=['universe', 'character'], right_on=['universe', 'character'], how='outer')\n",
    "summary.fillna(0, inplace=True)\n",
    "summary.sort_values(by=['universe', 'character'], inplace=True)\n",
    "\n",
    "summary = summary.round(decimals=2).astype(object)\n",
    "summary = summary.astype(str)\n",
    "summary = summary.replace(to_replace = \"\\.0+$\",value = \"\", regex = True)"
   ]
  },
  {
   "cell_type": "code",
   "execution_count": 7,
   "metadata": {},
   "outputs": [],
   "source": [
    "deaths['resulting status'] = ''\n",
    "\n",
    "for i in range(len(deaths)):\n",
    "\ttype = str(deaths['type'][i]).split(' | ')\n",
    "\n",
    "\tconditions = [\"variable\", \"alternate universe\"]\n",
    "\tif re.search('|'.join(conditions), str(type)):\n",
    "\t\tdependent = True\n",
    "\telse:\n",
    "\t\tdependent = False\n",
    "\t\n",
    "\tconditions = [\"unavoidable\"]\n",
    "\tif re.search('|'.join(conditions), str(type)):\n",
    "\t\tdependent = False\n",
    "\n",
    "\tconditions = [\"temporary\", \"non-canon\"]\n",
    "\tif re.search('|'.join(conditions), str(type)):\n",
    "\t\talive = True\n",
    "\telse:\n",
    "\t\talive = False\n",
    "\t\n",
    "\tconditions = [\"physical\"]\n",
    "\tif re.search('|'.join(conditions), str(type)):\n",
    "\t\textant = True\n",
    "\telse:\n",
    "\t\textant = False\n",
    "\n",
    "\tif alive:\n",
    "\t\tdeaths['resulting status'][i] = 'alive'\n",
    "\telif extant and not dependent and not alive:\n",
    "\t\tdeaths['resulting status'][i] = 'extant'\n",
    "\telif dependent and not extant and not alive:\n",
    "\t\tdeaths['resulting status'][i] = 'dependent'\n",
    "\tif not dependent and not extant and not alive:\n",
    "\t\tdeaths['resulting status'][i] = 'deceased'"
   ]
  },
  {
   "cell_type": "code",
   "execution_count": 8,
   "metadata": {},
   "outputs": [],
   "source": [
    "priority = {\"deceased\": 1, \"dependent\": 2, \"extant\": 3, \"alive\": 4}\n",
    "\n",
    "status = deaths.copy()\n",
    "status[\"priority\"] = status[\"resulting status\"].map(priority)\n",
    "status = status.loc[status.groupby([\"universe\", \"character\"])[\"priority\"].idxmin()]\n",
    "status = status.drop(columns=[\"priority\", \"responsible party\", \"description\", \"type\"]).reset_index(drop=True)\n",
    "status.rename(columns={\"resulting status\": \"last known status\"}, inplace=True)\n",
    "\n",
    "summary = pd.merge(summary, status, left_on=['universe', 'character'], right_on=['universe', 'character'], how='outer')\n",
    "summary[\"last known status\"] = summary[\"last known status\"].fillna(\"alive\")"
   ]
  },
  {
   "cell_type": "code",
   "execution_count": 9,
   "metadata": {},
   "outputs": [],
   "source": [
    "deaths.to_csv('deaths.tsv', sep='\\t', index=False)\n",
    "kills.to_csv('kills.tsv', sep='\\t', index=False)\n",
    "summary.to_csv('summary.tsv', sep='\\t', index=False)"
   ]
  },
  {
   "cell_type": "markdown",
   "metadata": {},
   "source": [
    "### Generating a Summary of Universes"
   ]
  },
  {
   "cell_type": "code",
   "execution_count": 10,
   "metadata": {},
   "outputs": [],
   "source": [
    "deaths_summary = deaths.drop([\"character\", \"responsible party\", \"description\", \"type\", \"resulting status\"], axis=1)\n",
    "deaths_summary['deaths'] = 1\n",
    "deaths_summary = deaths_summary.groupby([\"universe\", \"entry\"]).aggregate({\"deaths\":sum})\n",
    "deaths_summary.reset_index(inplace=True)\n",
    "deaths_table = deaths_summary.to_markdown(tablefmt='github', index=False)\n",
    "\n",
    "with open('README.md', 'r+') as f:\n",
    "\tf.seek(0)\n",
    "\tf.write(deaths_table)\n",
    "\tf.truncate()"
   ]
  },
  {
   "cell_type": "markdown",
   "metadata": {},
   "source": [
    "### Visualizing Death Links using PyVis"
   ]
  },
  {
   "cell_type": "code",
   "execution_count": 11,
   "metadata": {},
   "outputs": [],
   "source": [
    "status = summary.copy()\n",
    "status.drop(columns=[\"deaths\", \"killed\", \"responsible for\", \"total kills\"], inplace=True)\n",
    "status.rename(columns={\"last known status\": \"color\"}, inplace=True)\n",
    "\n",
    "colors = {\"alive\" : \"#107a06\",\n",
    "\t\t  \"extant\" : \"#0990b5\",\n",
    "\t\t  \"dependent\" : \"#631da3\",\n",
    "\t\t  \"deceased\" : \"#730a1c\"}\n",
    "\n",
    "status[\"color\"].replace(colors, inplace=True)\n",
    "status[\"character\"] += \" [\" + status[\"universe\"] + \"]\""
   ]
  },
  {
   "cell_type": "code",
   "execution_count": 12,
   "metadata": {},
   "outputs": [],
   "source": [
    "edges['killer'] += \" [\" + edges['universe'] + \"]\"\n",
    "edges.loc[edges['killer'].str.startswith(' ['), 'killer'] = ''\n",
    "edges['victim'] += \" [\" + edges['universe'] + \"]\"\n",
    "\n",
    "nodes = pd.DataFrame()\n",
    "nodes['character'] = pd.concat([edges['victim'], edges['killer']]).drop_duplicates().sort_values().reset_index(drop=True)\n",
    "\n",
    "nodes = pd.merge(nodes, status, left_on='character', right_on='character', how='outer')\n",
    "nodes.sort_values(by=['character', 'color'], inplace=True)\n",
    "\n",
    "descriptions = deaths.groupby(by=['universe', 'character']).aggregate({'description':'\\n'.join})\n",
    "descriptions.reset_index(inplace=True)\n",
    "descriptions['character'] += \" [\" + descriptions['universe'] + \"]\"\n",
    "descriptions.drop(columns=['universe'], inplace=True)\n",
    "\n",
    "nodes = pd.merge(nodes, descriptions, left_on=['character'], right_on=['character'], how='outer')\n",
    "\n",
    "profiles = pd.DataFrame(columns=['universe', 'character', 'profile'])"
   ]
  },
  {
   "cell_type": "code",
   "execution_count": 13,
   "metadata": {},
   "outputs": [],
   "source": [
    "def make_network(universe):\n",
    "    net = Network(height=\"100vh\", width=\"100%\", bgcolor=\"#111111\", directed=True, notebook=False)\n",
    "    net.force_atlas_2based(overlap=1, damping=0.5)\n",
    "\n",
    "    current_edges = edges[edges['universe'] == universe]\n",
    "    current_nodes = nodes[nodes['character'].str.endswith('[' + universe + ']')]\n",
    "\n",
    "    sources, targets, direction = current_edges['killer'], current_edges['victim'], current_edges['direction']\n",
    "    description = current_edges['description']\n",
    "    edge_data = zip(sources, targets, direction, description)\n",
    "\n",
    "    for i in range(len(current_nodes)):\n",
    "        victim = current_nodes.iloc[i]['character']\n",
    "        color = current_nodes.iloc[i]['color']\n",
    "        label = victim.split(\" [\")[0]\n",
    "        description = current_nodes.iloc[i]['description']\n",
    "        title = label + \"\\n\\nCharacter Profile :\" + \"\\n\\n\\n\"\n",
    "\n",
    "        if description == description:\n",
    "            value = description.count('\\n') + 1\n",
    "            if value != 1:\n",
    "                plural = 's'\n",
    "            else:\n",
    "                plural = ''\n",
    "\n",
    "            title += str(value) + \" Death\" + plural + \" :\\n\\n\" + description + \"\\n\\n\"\n",
    "        else:\n",
    "            title += ''\n",
    "\n",
    "        if victim != '':\n",
    "            font = f\"15px baskerville {color} sans-serif\"\n",
    "            net.add_node(victim, label=label, title=title, color=color, font=font)\n",
    "\n",
    "    for src, dst, dir, des in edge_data:\n",
    "        if src != '':\n",
    "            if dir == 'direct':\n",
    "                net.add_edge(src, dst, title=des, color='#e8ac87', width=1, dashes=False)\n",
    "            elif dir == 'indirect':\n",
    "                net.add_edge(src, dst, title=des, color='#cccccc', width=1, dashes=True)\n",
    "\n",
    "    neighbor_map = net.get_adj_list()\n",
    "\n",
    "    for node in net.nodes:\n",
    "        value = len(neighbor_map[node['id']])\n",
    "        if value != 0:\n",
    "            if value != 1:\n",
    "                plural = 's'\n",
    "            else:\n",
    "                plural = ''\n",
    "            node['title'] += str(value) + \" Victim\" + plural + \" :\\n\\n\"\n",
    "            node['title'] += \"\\n\".join(sorted(neighbor_map[node['id']]))\n",
    "            node['title'] = re.sub(' \\[.*?\\]', '', node['title'])\n",
    "        node['value'] = value\n",
    "    \n",
    "    net.inherit_edge_colors(False)\n",
    "    net.set_edge_smooth('dynamic')\n",
    "\n",
    "    net.save_graph('Networks/' + universe + '.html')\n",
    "\n",
    "    for node in net.nodes:\n",
    "        universe = node['id'].split(' [')[1].split(']')[0]\n",
    "        character = node['id'].split(' [')[0]\n",
    "        profile = node['title']\n",
    "        row = [universe, character, profile]\n",
    "        profiles.loc[len(profiles)] = row"
   ]
  },
  {
   "cell_type": "code",
   "execution_count": 14,
   "metadata": {},
   "outputs": [],
   "source": [
    "for universe in kills['universe'].unique():\n",
    "    make_network(universe)"
   ]
  }
 ],
 "metadata": {
  "kernelspec": {
   "display_name": "Python 3",
   "language": "python",
   "name": "python3"
  },
  "language_info": {
   "codemirror_mode": {
    "name": "ipython",
    "version": 3
   },
   "file_extension": ".py",
   "mimetype": "text/x-python",
   "name": "python",
   "nbconvert_exporter": "python",
   "pygments_lexer": "ipython3",
   "version": "3.12.6"
  },
  "orig_nbformat": 4
 },
 "nbformat": 4,
 "nbformat_minor": 2
}
