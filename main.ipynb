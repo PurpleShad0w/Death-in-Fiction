{
 "cells": [
  {
   "cell_type": "code",
   "execution_count": null,
   "metadata": {},
   "outputs": [],
   "source": [
    "import os\n",
    "import pandas as pd"
   ]
  },
  {
   "cell_type": "code",
   "execution_count": null,
   "metadata": {},
   "outputs": [],
   "source": [
    "kills = pd.DataFrame(columns=['universe', 'culprit', 'count', 'victims'])\n",
    "deaths = pd.DataFrame(columns=['universe', 'victim', 'culprits', 'observer dependent', 'definitive'])"
   ]
  },
  {
   "cell_type": "code",
   "execution_count": null,
   "metadata": {},
   "outputs": [],
   "source": [
    "for path, subdirs, files in os.walk('Lists'):\n",
    "    for name in files:\n",
    "        file = path + '\\\\' + name\n",
    "        universe = file.split('\\\\')[1::2][0]\n",
    "        \n",
    "        with open(file, 'r') as f:\n",
    "            lines = f.read().split('\\n')\n",
    "        \n",
    "        for line in lines:\n",
    "            victim = line.split('**')[1::2][0]\n",
    "            culprits = line.split('_')[1::2]\n",
    "\n",
    "            if '(observer dependent)' in line:\n",
    "                observer = True\n",
    "            else:\n",
    "                observer = False\n",
    "            \n",
    "            if '(later revived)' in line or '(later resurrected)' in line or observer:\n",
    "                definitive = False\n",
    "            else:\n",
    "                definitive = True\n",
    "\n",
    "            for i in range(len(culprits)):\n",
    "                if culprits[i] == 'suicide':\n",
    "                    culprits[i] = victim\n",
    "\n",
    "                row = [universe, culprits[i], 1, victim]\n",
    "                kills.loc[len(kills)] = row\n",
    "\n",
    "            row = [universe, victim, culprits, observer, definitive]\n",
    "            deaths.loc[len(deaths)] = row"
   ]
  },
  {
   "cell_type": "code",
   "execution_count": null,
   "metadata": {},
   "outputs": [],
   "source": [
    "kills = kills.groupby(by=['universe', 'culprit']).aggregate({'count':sum, 'victims':', '.join})\n",
    "kills = kills.reset_index().sort_values(by='count', ascending=False)\n",
    "kills.drop_duplicates('universe')"
   ]
  }
 ],
 "metadata": {
  "kernelspec": {
   "display_name": "Python 3",
   "language": "python",
   "name": "python3"
  },
  "language_info": {
   "codemirror_mode": {
    "name": "ipython",
    "version": 3
   },
   "file_extension": ".py",
   "mimetype": "text/x-python",
   "name": "python",
   "nbconvert_exporter": "python",
   "pygments_lexer": "ipython3",
   "version": "3.10.3"
  },
  "orig_nbformat": 4
 },
 "nbformat": 4,
 "nbformat_minor": 2
}
